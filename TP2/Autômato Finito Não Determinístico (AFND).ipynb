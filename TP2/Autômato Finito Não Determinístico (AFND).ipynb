{
  "nbformat": 4,
  "nbformat_minor": 0,
  "metadata": {
    "colab": {
      "name": "Autômato Finito Não Determinístico (AFND).ipynb",
      "provenance": [],
      "collapsed_sections": []
    },
    "kernelspec": {
      "name": "python3",
      "display_name": "Python 3"
    },
    "language_info": {
      "name": "python"
    }
  },
  "cells": [
    {
      "cell_type": "markdown",
      "source": [
        "### Autômato Finito Determinístico (AFND)"
      ],
      "metadata": {
        "id": "--DBINeSBHoY"
      }
    },
    {
      "cell_type": "markdown",
      "source": [
        "### Projeto do Autônomato"
      ],
      "metadata": {
        "id": "iz6yLdzos1m4"
      }
    },
    {
      "cell_type": "markdown",
      "source": [
        "Para projetar o autômato foi usado como base os diagramas de grafo, para isso definimos primeiramente cada estado (`classe State`) formado por 3 atributos, um rotulo para o estado (`state: str`), um atributo se indica se ele é final ou não (`isFinal: bool`) e uma lista (`transitions: List[Edge]`) que indica os caminhos de destino dos estados.\n",
        "Por questões de organização optou-se por englobar todos os estados em uma classe a parte (`classe AFND`) que auxilia na montagem do grafo armazenando os valores dos estados e o \"ponteiro\" do estado inicial, dentro dessa classe ficam armazenadas todas as funções que lidam diretamente com os estados, como por exemplo a função que checa se uma palavra pertence aos estados.\n",
        "Fora dessa classe optou-se por desixar todas as funções que lidam com o dado bruto digitado pelo usuario."
      ],
      "metadata": {
        "id": "Ef8Vb41PtbOY"
      }
    },
    {
      "cell_type": "markdown",
      "source": [
        "## Estrutura de dados"
      ],
      "metadata": {
        "id": "pv7kKYz9zuum"
      }
    },
    {
      "cell_type": "markdown",
      "source": [
        "Foi usado uma classe que indica o caminho (`classe Edge`) e o destino, uma classe que representa o estado e uma lsita com seus possiveis caminhos (`classe state`) e a classe que lida com todos os dados da AFND  (`classe AFND`)."
      ],
      "metadata": {
        "id": "JBkc_7qsz2cD"
      }
    },
    {
      "cell_type": "markdown",
      "source": [
        "## Não determinismo"
      ],
      "metadata": {
        "id": "nVM9m_2g0qT7"
      }
    },
    {
      "cell_type": "markdown",
      "source": [
        "Para lidar com o não determinismo foi realizada uma adptação no modelo anterior, para isso foi substituido o dicionario por uma lista e ao inves de se trazer apenas um estado de destino com base no rotulo do caminho ( feita pelo dicionario) é retornada uma lista de estados e durante o processo de aferição de uma palavra ele faz o processo em cada um desses estados da lista, assim no final da palavra se tem uma lista de estados em que a palavra parou (possiveis caminhos que a palavra poderia percorrer no AFND) e se pelo menos um desses estados for final então a palavra faz parte do nosso AFND."
      ],
      "metadata": {
        "id": "4yqwu8e90tkc"
      }
    },
    {
      "cell_type": "code",
      "source": [
        "from typing import Dict,List"
      ],
      "metadata": {
        "id": "YXlhnfKBY7CQ"
      },
      "execution_count": 1,
      "outputs": []
    },
    {
      "cell_type": "code",
      "execution_count": 2,
      "metadata": {
        "id": "pHZK3rXVBDHJ"
      },
      "outputs": [],
      "source": [
        "states = input() #\"0 1\"\n",
        "symbols = input() #\"a b\"\n",
        "n_transitions= int(input()) #3\n",
        "transitions= [] #\"0 a 1\", \"1 a 1\", \"1 b 1\"\n",
        "\n",
        "for i in range(0, n_transitions):\n",
        "  transitions.append(input())\n",
        "\n",
        "initial_state= input() #\"0\"\n",
        "final_state= input() #\"1\"\n",
        "words= input() #\"a b aba abb b\""
      ]
    },
    {
      "cell_type": "code",
      "source": [
        "# states = \"0 1\"\n",
        "# symbols = \"a b\"\n",
        "# n_transitions= 3\n",
        "# transitions=[\"0 a 0\", \"0 b 0\", \"0 b 1\"]\n",
        "\n",
        "# initial_state= \"0\"\n",
        "# final_state= \"1\"\n",
        "# words= \"a b aba abb\""
      ],
      "metadata": {
        "id": "rnTWgCiKl0Yo"
      },
      "execution_count": 3,
      "outputs": []
    },
    {
      "cell_type": "code",
      "source": [
        "#Classes\n",
        "class Edge:\n",
        "  symbol          : str\n",
        "\n",
        "  def __init__(self, symbol: str, destination):\n",
        "    self.symbol = symbol\n",
        "    self.destination = destination\n",
        "\n",
        "class State:\n",
        "  transitions : List[Edge]\n",
        "  isFinal     : bool\n",
        "\n",
        "  def __init__(self, state):\n",
        "    self.state       = state\n",
        "    self.transitions = []\n",
        "    self.isFinal     = False\n",
        "\n",
        "  def addTransition(self, edge: Edge):\n",
        "    self.transitions.append(edge)\n",
        "\n",
        "  def becomeFinalState(self) -> None:\n",
        "    self.isFinal = not self.isFinal\n",
        "\n",
        "  def getDestination(self, symbol) -> List:\n",
        "    if(symbol == \"*\"):\n",
        "      return [self] \n",
        "    else: \n",
        "      return [s.destination for s in self.transitions if s.symbol == symbol]\n",
        "\n",
        "class AFND:\n",
        "  stateList     : List[State]\n",
        "  initialState  : State\n",
        "\n",
        "  def __init__(self, stateList: List[State]):\n",
        "    self.stateList = stateList\n",
        "\n",
        "  def getState(self, state: str) -> State:\n",
        "    return [s for s in self.stateList if s.state == state][0]\n",
        "\n",
        "  def becomeInitialState(self, initial: str):\n",
        "    self.initialState = self.getState(initial)\n",
        "  \n",
        "  def checkWord(self, word: str) -> str:\n",
        "    states = [self.initialState]\n",
        "    \n",
        "    for w in word:\n",
        "      nextStates = []\n",
        "\n",
        "      for s in states:\n",
        "        nextStates += s.getDestination(w)\n",
        "      if len(nextStates) > 0:\n",
        "        states = nextStates\n",
        "      else:\n",
        "        states = []\n",
        "        break\n",
        "\n",
        "    if ([s for s in states if s.isFinal]):\n",
        "      return \"S\"\n",
        "    else:\n",
        "      return \"N\"\n"
      ],
      "metadata": {
        "id": "IPuEjhtEEkjR"
      },
      "execution_count": 4,
      "outputs": []
    },
    {
      "cell_type": "code",
      "source": [
        "#Functions\n",
        "def processStates(states: List[str]):\n",
        "  \"\"\"\n",
        "  Retorna uma lista de States a partir de uma lista de estados.\n",
        "  \"\"\"\n",
        "  return [State(s) for s in states]\n",
        "\n",
        "def processTrasitions(transitions: List[str], afnd: AFND):\n",
        "  \"\"\"\n",
        "  Liga os estados de uma lista de trasições a outros estados a partir de um caminho nomeado.\n",
        "  \"\"\"\n",
        "  for o, c, d in [s.split(\" \") for s in transitions]:\n",
        "    s = afnd.getState(o)\n",
        "    s.addTransition(Edge(c, afnd.getState(d)))\n",
        "\n",
        "def processFinalStates(final_states: List[str], afnd: AFND):\n",
        "  \"\"\"\n",
        "  Torna todos os itens de uma lista de estados finais.\n",
        "  \"\"\"\n",
        "  for f in final_states.split(\" \"):\n",
        "    s = afnd.getState(f)\n",
        "    s.becomeFinalState()\n",
        "\n",
        "def processWords(words: List[str], afnd: AFND):\n",
        "  \"\"\"\n",
        "  Verifica se as palavras de uma lista pertencem ao ANFD.\n",
        "  \"\"\"\n",
        "  for w in words.split(\" \"):\n",
        "    print(afnd.checkWord(w))"
      ],
      "metadata": {
        "id": "paqZmg44KXo7"
      },
      "execution_count": 5,
      "outputs": []
    },
    {
      "cell_type": "code",
      "source": [
        "afnd = AFND(processStates(states.split(\" \")))\n",
        "processTrasitions(transitions, afnd)\n",
        "afnd.becomeInitialState(initial_state)\n",
        "processFinalStates(final_state, afnd)\n",
        "processWords(words, afnd)"
      ],
      "metadata": {
        "colab": {
          "base_uri": "https://localhost:8080/"
        },
        "id": "c43O4LW96ycV",
        "outputId": "7011b06e-4a7e-44c8-dbdc-e1238cf0922d"
      },
      "execution_count": 6,
      "outputs": [
        {
          "output_type": "stream",
          "name": "stdout",
          "text": [
            "N\n",
            "S\n",
            "N\n",
            "S\n"
          ]
        }
      ]
    }
  ]
}