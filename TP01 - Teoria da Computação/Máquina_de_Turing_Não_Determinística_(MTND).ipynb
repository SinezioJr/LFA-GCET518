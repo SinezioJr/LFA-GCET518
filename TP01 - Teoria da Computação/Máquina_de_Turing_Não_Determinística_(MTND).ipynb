{
  "nbformat": 4,
  "nbformat_minor": 0,
  "metadata": {
    "colab": {
      "provenance": [],
      "collapsed_sections": []
    },
    "kernelspec": {
      "name": "python3",
      "display_name": "Python 3"
    },
    "language_info": {
      "name": "python"
    }
  },
  "cells": [
    {
      "cell_type": "markdown",
      "source": [
        "### Máquina de Turing Não Determinística (MTND)"
      ],
      "metadata": {
        "id": "--DBINeSBHoY"
      }
    },
    {
      "cell_type": "code",
      "source": [
        "from typing import Dict, List, DefaultDict, Optional\n",
        "\n",
        "from collections import defaultdict"
      ],
      "metadata": {
        "id": "YXlhnfKBY7CQ"
      },
      "execution_count": 1,
      "outputs": []
    },
    {
      "cell_type": "code",
      "source": [
        "#Função de desenvolvimento\n",
        "\n",
        "DEBUG_LOG : bool = False\n",
        "\n",
        "def debugPrint(*args):\n",
        "  if DEBUG_LOG : print(' '.join([str(value) for value in args]))"
      ],
      "metadata": {
        "id": "myK_Sgv9hEqC"
      },
      "execution_count": 2,
      "outputs": []
    },
    {
      "cell_type": "code",
      "execution_count": 3,
      "metadata": {
        "id": "pHZK3rXVBDHJ"
      },
      "outputs": [],
      "source": [
        "# states = input() #\"0 1 2 3 4\"\n",
        "# symbols = input() #\"a b\"\n",
        "# P_symbols = input() #\"A B *\"\n",
        "\n",
        "# F_limit = input() #\"<\"\n",
        "# F_blank = input() #\"*\"\n",
        "\n",
        "# n_transitions= int(input()) #3\n",
        "# transitions= [] #\"0 a * 0 A\", \"0 * * 1 *\", \"1 b A 1 *\"\n",
        "\n",
        "# for i in range(0, n_transitions):\n",
        "#   transitions.append(input())\n",
        "\n",
        "# initial_state= input() #\"0\"\n",
        "# final_state= input() #\"1\"\n",
        "# words= input() #\"* ab ba abb aab\""
      ]
    },
    {
      "cell_type": "code",
      "source": [
        "states = \"0 1 2 3 4\"\n",
        "symbols = \"a b\"\n",
        "P_symbols = \"A B *\"\n",
        "F_limit = \"<\"\n",
        "F_blank = \"*\"\n",
        "n_transitions= 10\n",
        "transitions=[\"0 a 1 A D\", \"1 a 1 a D\", \"1 B 1 B D\", \"1 b 2 B E\", \"2 B 2 B E\", \"2 a 2 a E\", \"2 A 0 A D\", \"0 B 3 B D\", \"3 B 3 B D\", \"3 * 4 * E\"]\n",
        "\n",
        "initial_state= \"0\"\n",
        "final_state= \"4\"\n",
        "words= \"* ab ba abb aab aabb\""
      ],
      "metadata": {
        "id": "rnTWgCiKl0Yo"
      },
      "execution_count": 4,
      "outputs": []
    },
    {
      "cell_type": "code",
      "source": [
        "class Edge:\n",
        "  symbol       : str\n",
        "  write        : str\n",
        "  destination  : Optional[\"State\"]\n",
        "  direction    : int\n",
        "\n",
        "  def __init__(self, symbol: str, write: str, destination, direction: str):\n",
        "    self.symbol      = symbol\n",
        "    self.destination = destination\n",
        "    self.write       = write\n",
        "    self.direction   = direction\n",
        "\n",
        "class StackStates:\n",
        "  tape        : str\n",
        "  state       : Optional[\"State\"]\n",
        "  belongs     : True\n",
        "  indice      : int\n",
        "\n",
        "  def __init__(self, tape: str, state, belongs = False, indice = 0):\n",
        "    self.state   = state\n",
        "    self.tape   = tape\n",
        "    self.belongs = belongs\n",
        "    self.indice  = indice\n",
        "\n",
        "class State:\n",
        "  transitions : DefaultDict[str, List[Edge]]\n",
        "  isFinal     : bool\n",
        "  state       : str\n",
        "\n",
        "  def __init__(self, state):\n",
        "    self.state       = state\n",
        "    self.transitions = defaultdict(list)\n",
        "    self.isFinal     = False\n",
        "\n",
        "  def addTransition(self, symbol: str, write: str, destination: Optional[\"State\"], direction: int) -> None:\n",
        "    self.transitions[symbol].append(Edge(symbol, write, destination, direction))\n",
        "\n",
        "  def becomeFinalState(self) -> None:\n",
        "    self.isFinal = not self.isFinal\n",
        "\n",
        "class MTND:\n",
        "  stateList     : List[State]\n",
        "  initialState  : State\n",
        "\n",
        "  def __init__(self, stateList: List[State]):\n",
        "    self.stateList = stateList\n",
        "\n",
        "  def getState(self, state: str) -> State:\n",
        "    return [s for s in self.stateList if s.state == state][0]\n",
        "\n",
        "  def becomeInitialState(self, initial: str):\n",
        "    self.initialState = self.getState(initial)\n",
        "  \n",
        "  def checkWord(self, word: str) -> str:\n",
        "    stackStates : List[StackStates] = [StackStates(\"<\"+word, self.initialState, indice=1)] # Inicia a lista com a pilha vazia e o estado atual o inicial\n",
        "\n",
        "    # debugPrint(word)\n",
        "    # debugPrint(apnd.initialState.state, [\"\"])\n",
        "\n",
        "    while [s for s in stackStates if not s.belongs]:\n",
        "      nextStackStates : List[StackStates] = []\n",
        "\n",
        "      #Navega na dimensão de estados\n",
        "      for ss in stackStates:\n",
        "        debugPrint(\"Current:\",[(s.tape, s.indice, s.state.state, s.belongs) for s in [ss]])\n",
        "        if(ss.belongs) : \n",
        "          debugPrint(\"Pertence a Linguagem\")\n",
        "          break\n",
        "        \n",
        "        #armazena todas as possiveis transições de uma dimensão\n",
        "        edge = ss.state.transitions[ss.tape[ss.indice] if (len(ss.tape) > ss.indice) else \"*\"].copy()\n",
        "          \n",
        "        debugPrint(\"Finding:\", ss.tape, ss.indice, [(e.symbol, e.destination.state, e.destination.isFinal) for e in edge])\n",
        "\n",
        "        #Percorra para cada caminho encontrado\n",
        "        for e in edge:\n",
        "          nexttape = ss.tape\n",
        "\n",
        "          if(len(ss.tape) - 1 < ss.indice): \n",
        "            nexttape = nexttape + \"*\"*(len(nexttape) - ss.indice + 1)\n",
        "          \n",
        "          debugPrint(\"Pilha: \", nexttape, \"Escreva: \", e.write, \"em \", ss.indice )\n",
        "          \n",
        "          #Se ouver um caminho e o item da pilha for desempilhavel, desempilhe\n",
        "          if (nexttape and (nexttape[ss.indice] == e.symbol)): \n",
        "            nexttape = (nexttape[:ss.indice] + e.write + nexttape[ss.indice+1:])\n",
        "            nextindex = ss.indice + e.direction\n",
        "\n",
        "            nextbelongs = not e.destination.transitions[ss.tape[nextindex] if (len(ss.tape) > nextindex) else \"*\"] and e.destination.isFinal\n",
        "            \n",
        "            if nextbelongs:\n",
        "              return \"S\"\n",
        "            else:\n",
        "              nextStackStates.append(StackStates(nexttape, e.destination, nextbelongs, nextindex))\n",
        "\n",
        "            debugPrint(\"For:\", e.symbol)\n",
        "            debugPrint(e.destination.state, [nexttape])\n",
        "\n",
        "      debugPrint(\"Next:\", [(s.tape, s.state.state, s.tape, s.indice, s.belongs) for s in nextStackStates])\n",
        "    \n",
        "      if len(nextStackStates) > 0:\n",
        "        stackStates = nextStackStates\n",
        "      else:\n",
        "        stackStates = []\n",
        "        break\n",
        "\n",
        "    if ([s for s in stackStates if s.belongs]):\n",
        "      return \"S\"\n",
        "    else:\n",
        "      return \"N\""
      ],
      "metadata": {
        "id": "IPuEjhtEEkjR"
      },
      "execution_count": 5,
      "outputs": []
    },
    {
      "cell_type": "code",
      "source": [
        "#Functions\n",
        "def processStates(states: List[str]):\n",
        "  \"\"\"\n",
        "  Retorna uma lista de States a partir de uma lista de estados.\n",
        "  \"\"\"\n",
        "  return [State(s) for s in states]\n",
        "\n",
        "def processTrasitions(transitions: List[str], mtnd: MTND):\n",
        "  \"\"\"\n",
        "  Liga os estados de uma lista de trasições a outros estados a partir de um caminho nomeado.\n",
        "  \"\"\"\n",
        "  for o, c, d, w, e in [trn.split(\" \") for trn in transitions]:\n",
        "    st = mtnd.getState(o)\n",
        "    dir = -1 if e == \"E\" else (1 if e == \"D\" else 0)\n",
        "    st.addTransition(c, w, mtnd.getState(d), dir)\n",
        "\n",
        "def processFinalStates(final_states: List[str], mtnd: MTND):\n",
        "  \"\"\"\n",
        "  Torna todos os itens de uma lista de estados finais.\n",
        "  \"\"\"\n",
        "  for f in final_states.split(\" \"):\n",
        "    s = mtnd.getState(f)\n",
        "    s.becomeFinalState()\n",
        "\n",
        "def processWords(words: List[str], mtnd: MTND):\n",
        "  \"\"\"\n",
        "  Verifica se as palavras de uma lista pertencem ao MTND.\n",
        "  \"\"\"\n",
        "  for w in words.split(\" \"):\n",
        "    print(mtnd.checkWord(w))"
      ],
      "metadata": {
        "id": "paqZmg44KXo7"
      },
      "execution_count": 6,
      "outputs": []
    },
    {
      "cell_type": "code",
      "source": [
        "\n",
        "mtnd = MTND(processStates(states.split(\" \")))\n",
        "debugPrint(transitions)\n",
        "processTrasitions(transitions, mtnd)\n",
        "mtnd.becomeInitialState(initial_state)\n",
        "processFinalStates(final_state, mtnd)\n",
        "processWords(words, mtnd)"
      ],
      "metadata": {
        "colab": {
          "base_uri": "https://localhost:8080/"
        },
        "id": "c43O4LW96ycV",
        "outputId": "32b30aee-8f32-4aad-f71d-9b9bd18af8ba"
      },
      "execution_count": 7,
      "outputs": [
        {
          "output_type": "stream",
          "name": "stdout",
          "text": [
            "N\n",
            "S\n",
            "N\n",
            "N\n",
            "N\n",
            "S\n"
          ]
        }
      ]
    },
    {
      "cell_type": "code",
      "source": [
        "import time\n",
        "\n",
        "wa = 'a'\n",
        "wb = 'b'\n",
        "\n",
        "\n",
        "for i in range(50):\n",
        "  w = wa+wb\n",
        "  \n",
        "  inicio = time.time()\n",
        "\n",
        "  result = mtnd.checkWord(w)\n",
        "  \n",
        "  fim = time.time()\n",
        "  print(str(result)+ \" \"+str(len(w))+ \"\t\" + str(fim - inicio).replace('.',','))\n",
        "\n",
        "  wa = wa*2\n",
        "  wb = wb*2"
      ],
      "metadata": {
        "id": "XgUtg6y-qqSF",
        "colab": {
          "base_uri": "https://localhost:8080/",
          "height": 599
        },
        "outputId": "e3d6e630-0f3e-4284-d598-d8d7125e662c"
      },
      "execution_count": 10,
      "outputs": [
        {
          "output_type": "stream",
          "name": "stdout",
          "text": [
            "S 2\t6,818771362304688e-05\n",
            "S 4\t0,00014543533325195312\n",
            "S 8\t0,0003540515899658203\n",
            "S 16\t0,0012576580047607422\n",
            "S 32\t0,004567384719848633\n",
            "S 64\t0,017350196838378906\n",
            "S 128\t0,043532371520996094\n",
            "S 256\t0,17992639541625977\n",
            "S 512\t0,7574450969696045\n",
            "S 1024\t2,940030097961426\n",
            "S 2048\t11,820150375366211\n",
            "S 4096\t48,800758838653564\n",
            "S 8192\t203,18213319778442\n",
            "S 16384\t889,4777178764343\n"
          ]
        },
        {
          "output_type": "error",
          "ename": "KeyboardInterrupt",
          "evalue": "ignored",
          "traceback": [
            "\u001b[0;31m---------------------------------------------------------------------------\u001b[0m",
            "\u001b[0;31mKeyboardInterrupt\u001b[0m                         Traceback (most recent call last)",
            "\u001b[0;32m<ipython-input-10-128c48a6ff31>\u001b[0m in \u001b[0;36m<module>\u001b[0;34m\u001b[0m\n\u001b[1;32m     10\u001b[0m   \u001b[0minicio\u001b[0m \u001b[0;34m=\u001b[0m \u001b[0mtime\u001b[0m\u001b[0;34m.\u001b[0m\u001b[0mtime\u001b[0m\u001b[0;34m(\u001b[0m\u001b[0;34m)\u001b[0m\u001b[0;34m\u001b[0m\u001b[0;34m\u001b[0m\u001b[0m\n\u001b[1;32m     11\u001b[0m \u001b[0;34m\u001b[0m\u001b[0m\n\u001b[0;32m---> 12\u001b[0;31m   \u001b[0mresult\u001b[0m \u001b[0;34m=\u001b[0m \u001b[0mmtnd\u001b[0m\u001b[0;34m.\u001b[0m\u001b[0mcheckWord\u001b[0m\u001b[0;34m(\u001b[0m\u001b[0mw\u001b[0m\u001b[0;34m)\u001b[0m\u001b[0;34m\u001b[0m\u001b[0;34m\u001b[0m\u001b[0m\n\u001b[0m\u001b[1;32m     13\u001b[0m \u001b[0;34m\u001b[0m\u001b[0m\n\u001b[1;32m     14\u001b[0m   \u001b[0mfim\u001b[0m \u001b[0;34m=\u001b[0m \u001b[0mtime\u001b[0m\u001b[0;34m.\u001b[0m\u001b[0mtime\u001b[0m\u001b[0;34m(\u001b[0m\u001b[0;34m)\u001b[0m\u001b[0;34m\u001b[0m\u001b[0;34m\u001b[0m\u001b[0m\n",
            "\u001b[0;32m<ipython-input-5-4f0277c42335>\u001b[0m in \u001b[0;36mcheckWord\u001b[0;34m(self, word)\u001b[0m\n\u001b[1;32m     69\u001b[0m \u001b[0;34m\u001b[0m\u001b[0m\n\u001b[1;32m     70\u001b[0m         \u001b[0;31m#armazena todas as possiveis transições de uma dimensão\u001b[0m\u001b[0;34m\u001b[0m\u001b[0;34m\u001b[0m\u001b[0;34m\u001b[0m\u001b[0m\n\u001b[0;32m---> 71\u001b[0;31m         \u001b[0medge\u001b[0m \u001b[0;34m=\u001b[0m \u001b[0mss\u001b[0m\u001b[0;34m.\u001b[0m\u001b[0mstate\u001b[0m\u001b[0;34m.\u001b[0m\u001b[0mtransitions\u001b[0m\u001b[0;34m[\u001b[0m\u001b[0mss\u001b[0m\u001b[0;34m.\u001b[0m\u001b[0mtape\u001b[0m\u001b[0;34m[\u001b[0m\u001b[0mss\u001b[0m\u001b[0;34m.\u001b[0m\u001b[0mindice\u001b[0m\u001b[0;34m]\u001b[0m \u001b[0;32mif\u001b[0m \u001b[0;34m(\u001b[0m\u001b[0mlen\u001b[0m\u001b[0;34m(\u001b[0m\u001b[0mss\u001b[0m\u001b[0;34m.\u001b[0m\u001b[0mtape\u001b[0m\u001b[0;34m)\u001b[0m \u001b[0;34m>\u001b[0m \u001b[0mss\u001b[0m\u001b[0;34m.\u001b[0m\u001b[0mindice\u001b[0m\u001b[0;34m)\u001b[0m \u001b[0;32melse\u001b[0m \u001b[0;34m\"*\"\u001b[0m\u001b[0;34m]\u001b[0m\u001b[0;34m.\u001b[0m\u001b[0mcopy\u001b[0m\u001b[0;34m(\u001b[0m\u001b[0;34m)\u001b[0m\u001b[0;34m\u001b[0m\u001b[0;34m\u001b[0m\u001b[0m\n\u001b[0m\u001b[1;32m     72\u001b[0m \u001b[0;34m\u001b[0m\u001b[0m\n\u001b[1;32m     73\u001b[0m         \u001b[0mdebugPrint\u001b[0m\u001b[0;34m(\u001b[0m\u001b[0;34m\"Finding:\"\u001b[0m\u001b[0;34m,\u001b[0m \u001b[0mss\u001b[0m\u001b[0;34m.\u001b[0m\u001b[0mtape\u001b[0m\u001b[0;34m,\u001b[0m \u001b[0mss\u001b[0m\u001b[0;34m.\u001b[0m\u001b[0mindice\u001b[0m\u001b[0;34m,\u001b[0m \u001b[0;34m[\u001b[0m\u001b[0;34m(\u001b[0m\u001b[0me\u001b[0m\u001b[0;34m.\u001b[0m\u001b[0msymbol\u001b[0m\u001b[0;34m,\u001b[0m \u001b[0me\u001b[0m\u001b[0;34m.\u001b[0m\u001b[0mdestination\u001b[0m\u001b[0;34m.\u001b[0m\u001b[0mstate\u001b[0m\u001b[0;34m,\u001b[0m \u001b[0me\u001b[0m\u001b[0;34m.\u001b[0m\u001b[0mdestination\u001b[0m\u001b[0;34m.\u001b[0m\u001b[0misFinal\u001b[0m\u001b[0;34m)\u001b[0m \u001b[0;32mfor\u001b[0m \u001b[0me\u001b[0m \u001b[0;32min\u001b[0m \u001b[0medge\u001b[0m\u001b[0;34m]\u001b[0m\u001b[0;34m)\u001b[0m\u001b[0;34m\u001b[0m\u001b[0;34m\u001b[0m\u001b[0m\n",
            "\u001b[0;31mKeyboardInterrupt\u001b[0m: "
          ]
        }
      ]
    },
    {
      "cell_type": "code",
      "source": [],
      "metadata": {
        "id": "O8qO71yp6p3W"
      },
      "execution_count": 12,
      "outputs": []
    }
  ]
}