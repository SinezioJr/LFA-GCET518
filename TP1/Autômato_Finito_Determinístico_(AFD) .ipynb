{
  "nbformat": 4,
  "nbformat_minor": 0,
  "metadata": {
    "colab": {
      "name": "Autômato Finito Determinístico (AFD).ipynb",
      "provenance": [],
      "collapsed_sections": []
    },
    "kernelspec": {
      "name": "python3",
      "display_name": "Python 3"
    },
    "language_info": {
      "name": "python"
    }
  },
  "cells": [
    {
      "cell_type": "markdown",
      "source": [
        "### Autômato Finito Determinístico (AFD)"
      ],
      "metadata": {
        "id": "--DBINeSBHoY"
      }
    },
    {
      "cell_type": "markdown",
      "source": [
        "### Projeto do Autônomato"
      ],
      "metadata": {
        "id": "iz6yLdzos1m4"
      }
    },
    {
      "cell_type": "markdown",
      "source": [
        "Para projetar o autômato foi usado como base os diagramas de grafo, para isso definimos primeiramente cada estado (`classe State`) formado por 3 atributos, um rotulo para o estado (`state: str`), um atributo se indica se ele é final ou não (`isFinal: bool`) e um dicionario (`traseitions: Dict[str, Edge]`) que indica os rotulos dos caminhos (`symbol: str`) e o destino do caminho (`destination: State`).\n",
        "Por questões de organização optou-se por englobar todos os estados em uma classe a parte (`classe AFD`) que auxilia na montagem do grafo armazenando os valores dos estados e o \"ponteiro\" do estado inicial, dentro dessa classe ficam armazenadas todas as funções que lidam diretamente com os estados, como por exemplo a função que checa se uma palavra pertence aos estados.\n",
        "Fora dessa classe optou-se por desixar todas as funções que lidam com o dado bruto digitado pelo usuario."
      ],
      "metadata": {
        "id": "Ef8Vb41PtbOY"
      }
    },
    {
      "cell_type": "markdown",
      "source": [
        "## Estrutura de dados"
      ],
      "metadata": {
        "id": "pv7kKYz9zuum"
      }
    },
    {
      "cell_type": "markdown",
      "source": [
        "Foi usado uma classe que indica o caminho (`classe Edge`) e o destino, uma classe que representa o estado e um dicionario com seus possiveis caminhos (`classe state`) e a classe que lida com todos os dados da AFD  (`classe AFD`)."
      ],
      "metadata": {
        "id": "JBkc_7qsz2cD"
      }
    },
    {
      "cell_type": "markdown",
      "source": [
        "## Complexidade"
      ],
      "metadata": {
        "id": "nVM9m_2g0qT7"
      }
    },
    {
      "cell_type": "markdown",
      "source": [
        "Inicialmente os caminhos de um estado eram listadas em um ventor e a propia busca de um caminho significava um certo valor de complexidade no codigo, apos observar a complexidade do codigo optou-se pelo uso de um dicionario o que melhorou as busca de caminho e assim o codigo no geral.\n",
        "Para sabermos se uma palavra pertence a AFD temos que verificar ela por completo assim a complexidade é do tamanho da palavra."
      ],
      "metadata": {
        "id": "4yqwu8e90tkc"
      }
    },
    {
      "cell_type": "code",
      "source": [
        "from typing import Dict,List"
      ],
      "metadata": {
        "id": "YXlhnfKBY7CQ"
      },
      "execution_count": 8,
      "outputs": []
    },
    {
      "cell_type": "code",
      "execution_count": 9,
      "metadata": {
        "id": "pHZK3rXVBDHJ",
        "colab": {
          "base_uri": "https://localhost:8080/"
        },
        "outputId": "36b789bb-0df5-4a3c-c57e-95f4a47ac091"
      },
      "outputs": [
        {
          "name": "stdout",
          "output_type": "stream",
          "text": [
            "0 1\n",
            "a b\n",
            "3\n",
            "0 a 1\n",
            "1 a 1\n",
            "1 b 1\n",
            "0\n",
            "1\n",
            "a b aba abb b\n"
          ]
        }
      ],
      "source": [
        "states = input() #\"0 1\"\n",
        "symbols = input() #\"a b\"\n",
        "n_transitions= int(input()) #3\n",
        "transitions= [] #\"0 a 1\", \"1 a 1\", \"1 b 1\"\n",
        "\n",
        "for i in range(0, n_transitions):\n",
        "  transitions.append(input())\n",
        "\n",
        "initial_state= input() #\"0\"\n",
        "final_state= input() #\"1\"\n",
        "words= input() #\"a b aba abb b\""
      ]
    },
    {
      "cell_type": "code",
      "source": [
        "#Classes\n",
        "class Edge:\n",
        "  symbol          : str\n",
        "\n",
        "  def __init__(self, symbol: str, destination):\n",
        "    self.symbol = symbol\n",
        "    self.destination = destination\n",
        "\n",
        "class State:\n",
        "  transitions : Dict[str, Edge]\n",
        "  isFinal     : bool\n",
        "\n",
        "  def __init__(self, state):\n",
        "    self.state       = state\n",
        "    self.transitions = {}\n",
        "    self.isFinal     = False\n",
        "\n",
        "  def addTransition(self, edge: Edge):\n",
        "    self.transitions[edge.symbol]=edge\n",
        "\n",
        "  def becomeFinalState(self) -> None:\n",
        "    self.isFinal = not self.isFinal\n",
        "\n",
        "class AFD:\n",
        "  stateList     : List[State]\n",
        "  initialState  : State\n",
        "\n",
        "  def __init__(self, stateList: List[State]):\n",
        "    self.stateList = stateList\n",
        "\n",
        "  def getState(self, state: str) -> State:\n",
        "    return [s for s in self.stateList if s.state == state][0]\n",
        "\n",
        "  def becomeInitialState(self, initial: str):\n",
        "    self.initialState = self.getState(initial)\n",
        "  \n",
        "  def checkWord(self, word: str) -> str:\n",
        "    state = self.initialState\n",
        "    \n",
        "    for w in word:\n",
        "      if w in state.transitions.keys():\n",
        "        state = state.transitions[w].destination\n",
        "      else:\n",
        "        state = None\n",
        "        break\n",
        "\n",
        "    if (state and state.isFinal):\n",
        "      return \"S\"\n",
        "    else:\n",
        "      return \"N\"\n"
      ],
      "metadata": {
        "id": "IPuEjhtEEkjR"
      },
      "execution_count": 10,
      "outputs": []
    },
    {
      "cell_type": "code",
      "source": [
        "#Functions\n",
        "def processStates(states: List[str]):\n",
        "  \"\"\"\n",
        "  Retorna uma lista de States a partir de uma lista de estados.\n",
        "  \"\"\"\n",
        "  return [State(s) for s in states]\n",
        "\n",
        "def processTrasitions(transitions: List[str], afd: AFD):\n",
        "  \"\"\"\n",
        "  Liga os estados de uma lista de trasições a outros estados a partir de um caminho nomeado.\n",
        "  \"\"\"\n",
        "  for o, c, d in [s.split(\" \") for s in transitions]:\n",
        "    s = afd.getState(o)\n",
        "    s.addTransition(Edge(c, afd.getState(d)))\n",
        "\n",
        "def processFinalStates(final_states: List[str], afd: AFD):\n",
        "  \"\"\"\n",
        "  Torna todos os itens de uma lista de estados finais.\n",
        "  \"\"\"\n",
        "  for f in final_states.split(\" \"):\n",
        "    s = afd.getState(f)\n",
        "    s.becomeFinalState()\n",
        "\n",
        "def processWords(words: List[str], afd: AFD):\n",
        "  \"\"\"\n",
        "  Verifica se as palavras de uma lista pertencem ao AFD.\n",
        "  \"\"\"\n",
        "  for w in words.split(\" \"):\n",
        "    print(afd.checkWord(w))"
      ],
      "metadata": {
        "id": "paqZmg44KXo7"
      },
      "execution_count": 11,
      "outputs": []
    },
    {
      "cell_type": "code",
      "source": [
        "afd = AFD(processStates(states.split(\" \")))\n",
        "processTrasitions(transitions, afd)\n",
        "afd.becomeInitialState(initial_state)\n",
        "processFinalStates(final_state, afd)\n",
        "processWords(words, afd)"
      ],
      "metadata": {
        "colab": {
          "base_uri": "https://localhost:8080/"
        },
        "id": "c43O4LW96ycV",
        "outputId": "d3819034-a854-4ab7-cf34-10005ea7a16f"
      },
      "execution_count": 12,
      "outputs": [
        {
          "output_type": "stream",
          "name": "stdout",
          "text": [
            "S\n",
            "N\n",
            "S\n",
            "S\n",
            "N\n"
          ]
        }
      ]
    }
  ]
}